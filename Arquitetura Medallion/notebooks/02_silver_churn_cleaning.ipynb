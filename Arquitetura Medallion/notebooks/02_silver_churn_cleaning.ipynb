{
 "cells": [
  {
   "cell_type": "markdown",
   "metadata": {
    "application/vnd.databricks.v1+cell": {
     "cellMetadata": {},
     "inputWidgets": {},
     "nuid": "7d97d961-2e9f-4e48-92f0-8672f137aec4",
     "showTitle": false,
     "tableResultSettingsMap": {},
     "title": ""
    }
   },
   "source": [
    "# Notebook 02 – Silver Layer (Transformação)\n",
    "\n",
    "Este notebook transforma os dados crus do Bronze em dados tratados no Silver,\n",
    "corrigindo tipos, removendo nulos e padronizando colunas.\n"
   ]
  },
  {
   "cell_type": "code",
   "execution_count": 0,
   "metadata": {
    "application/vnd.databricks.v1+cell": {
     "cellMetadata": {
      "byteLimit": 2048000,
      "implicitDf": true,
      "rowLimit": 10000
     },
     "inputWidgets": {},
     "nuid": "b8e01f10-7d1b-429a-b1d1-787596436317",
     "showTitle": false,
     "tableResultSettingsMap": {},
     "title": ""
    }
   },
   "outputs": [],
   "source": [
    "%sql\n",
    "CREATE SCHEMA IF NOT EXISTS silver;"
   ]
  },
  {
   "cell_type": "code",
   "execution_count": 0,
   "metadata": {
    "application/vnd.databricks.v1+cell": {
     "cellMetadata": {
      "byteLimit": 2048000,
      "rowLimit": 10000
     },
     "inputWidgets": {},
     "nuid": "6e150129-4283-49b5-b6aa-2d282f85b3db",
     "showTitle": false,
     "tableResultSettingsMap": {},
     "title": ""
    }
   },
   "outputs": [
    {
     "output_type": "display_data",
     "data": {
      "text/html": [
       "<style scoped>\n",
       "  .table-result-container {\n",
       "    max-height: 300px;\n",
       "    overflow: auto;\n",
       "  }\n",
       "  table, th, td {\n",
       "    border: 1px solid black;\n",
       "    border-collapse: collapse;\n",
       "  }\n",
       "  th, td {\n",
       "    padding: 5px;\n",
       "  }\n",
       "  th {\n",
       "    text-align: left;\n",
       "  }\n",
       "</style><div class='table-result-container'><table class='table-result'><thead style='background-color: white'><tr><th>customer_id</th><th>gender</th><th>SeniorCitizen</th><th>Partner</th><th>Dependents</th><th>tenure</th><th>PhoneService</th><th>MultipleLines</th><th>InternetService</th><th>OnlineSecurity</th><th>OnlineBackup</th><th>DeviceProtection</th><th>TechSupport</th><th>StreamingTV</th><th>StreamingMovies</th><th>Contract</th><th>PaperlessBilling</th><th>PaymentMethod</th><th>MonthlyCharges</th><th>TotalCharges</th><th>Churn</th></tr></thead><tbody><tr><td>7590-VHVEG</td><td>Female</td><td>0</td><td>Yes</td><td>No</td><td>1</td><td>No</td><td>No phone service</td><td>DSL</td><td>No</td><td>Yes</td><td>No</td><td>No</td><td>No</td><td>No</td><td>Month-to-month</td><td>Yes</td><td>Electronic check</td><td>29.85</td><td>29.85</td><td>No</td></tr><tr><td>5575-GNVDE</td><td>Male</td><td>0</td><td>No</td><td>No</td><td>34</td><td>Yes</td><td>No</td><td>DSL</td><td>Yes</td><td>No</td><td>Yes</td><td>No</td><td>No</td><td>No</td><td>One year</td><td>No</td><td>Mailed check</td><td>56.95</td><td>1889.5</td><td>No</td></tr><tr><td>3668-QPYBK</td><td>Male</td><td>0</td><td>No</td><td>No</td><td>2</td><td>Yes</td><td>No</td><td>DSL</td><td>Yes</td><td>Yes</td><td>No</td><td>No</td><td>No</td><td>No</td><td>Month-to-month</td><td>Yes</td><td>Mailed check</td><td>53.85</td><td>108.15</td><td>Yes</td></tr><tr><td>7795-CFOCW</td><td>Male</td><td>0</td><td>No</td><td>No</td><td>45</td><td>No</td><td>No phone service</td><td>DSL</td><td>Yes</td><td>No</td><td>Yes</td><td>Yes</td><td>No</td><td>No</td><td>One year</td><td>No</td><td>Bank transfer (automatic)</td><td>42.3</td><td>1840.75</td><td>No</td></tr><tr><td>9237-HQITU</td><td>Female</td><td>0</td><td>No</td><td>No</td><td>2</td><td>Yes</td><td>No</td><td>Fiber optic</td><td>No</td><td>No</td><td>No</td><td>No</td><td>No</td><td>No</td><td>Month-to-month</td><td>Yes</td><td>Electronic check</td><td>70.7</td><td>151.65</td><td>Yes</td></tr></tbody></table></div>"
      ]
     },
     "metadata": {
      "application/vnd.databricks.v1+output": {
       "addedWidgets": {},
       "aggData": [],
       "aggError": "",
       "aggOverflow": false,
       "aggSchema": [],
       "aggSeriesLimitReached": false,
       "aggType": "",
       "arguments": {},
       "columnCustomDisplayInfos": {},
       "data": [
        [
         "7590-VHVEG",
         "Female",
         0,
         "Yes",
         "No",
         1,
         "No",
         "No phone service",
         "DSL",
         "No",
         "Yes",
         "No",
         "No",
         "No",
         "No",
         "Month-to-month",
         "Yes",
         "Electronic check",
         29.85,
         29.85,
         "No"
        ],
        [
         "5575-GNVDE",
         "Male",
         0,
         "No",
         "No",
         34,
         "Yes",
         "No",
         "DSL",
         "Yes",
         "No",
         "Yes",
         "No",
         "No",
         "No",
         "One year",
         "No",
         "Mailed check",
         56.95,
         1889.5,
         "No"
        ],
        [
         "3668-QPYBK",
         "Male",
         0,
         "No",
         "No",
         2,
         "Yes",
         "No",
         "DSL",
         "Yes",
         "Yes",
         "No",
         "No",
         "No",
         "No",
         "Month-to-month",
         "Yes",
         "Mailed check",
         53.85,
         108.15,
         "Yes"
        ],
        [
         "7795-CFOCW",
         "Male",
         0,
         "No",
         "No",
         45,
         "No",
         "No phone service",
         "DSL",
         "Yes",
         "No",
         "Yes",
         "Yes",
         "No",
         "No",
         "One year",
         "No",
         "Bank transfer (automatic)",
         42.3,
         1840.75,
         "No"
        ],
        [
         "9237-HQITU",
         "Female",
         0,
         "No",
         "No",
         2,
         "Yes",
         "No",
         "Fiber optic",
         "No",
         "No",
         "No",
         "No",
         "No",
         "No",
         "Month-to-month",
         "Yes",
         "Electronic check",
         70.7,
         151.65,
         "Yes"
        ]
       ],
       "datasetInfos": [],
       "dbfsResultPath": null,
       "isJsonSchema": true,
       "metadata": {},
       "overflow": false,
       "plotOptions": {
        "customPlotOptions": {},
        "displayType": "table",
        "pivotAggregation": null,
        "pivotColumns": null,
        "xColumns": null,
        "yColumns": null
       },
       "removedWidgets": [],
       "schema": [
        {
         "metadata": "{}",
         "name": "customer_id",
         "type": "\"string\""
        },
        {
         "metadata": "{}",
         "name": "gender",
         "type": "\"string\""
        },
        {
         "metadata": "{}",
         "name": "SeniorCitizen",
         "type": "\"integer\""
        },
        {
         "metadata": "{}",
         "name": "Partner",
         "type": "\"string\""
        },
        {
         "metadata": "{}",
         "name": "Dependents",
         "type": "\"string\""
        },
        {
         "metadata": "{}",
         "name": "tenure",
         "type": "\"integer\""
        },
        {
         "metadata": "{}",
         "name": "PhoneService",
         "type": "\"string\""
        },
        {
         "metadata": "{}",
         "name": "MultipleLines",
         "type": "\"string\""
        },
        {
         "metadata": "{}",
         "name": "InternetService",
         "type": "\"string\""
        },
        {
         "metadata": "{}",
         "name": "OnlineSecurity",
         "type": "\"string\""
        },
        {
         "metadata": "{}",
         "name": "OnlineBackup",
         "type": "\"string\""
        },
        {
         "metadata": "{}",
         "name": "DeviceProtection",
         "type": "\"string\""
        },
        {
         "metadata": "{}",
         "name": "TechSupport",
         "type": "\"string\""
        },
        {
         "metadata": "{}",
         "name": "StreamingTV",
         "type": "\"string\""
        },
        {
         "metadata": "{}",
         "name": "StreamingMovies",
         "type": "\"string\""
        },
        {
         "metadata": "{}",
         "name": "Contract",
         "type": "\"string\""
        },
        {
         "metadata": "{}",
         "name": "PaperlessBilling",
         "type": "\"string\""
        },
        {
         "metadata": "{}",
         "name": "PaymentMethod",
         "type": "\"string\""
        },
        {
         "metadata": "{}",
         "name": "MonthlyCharges",
         "type": "\"double\""
        },
        {
         "metadata": "{}",
         "name": "TotalCharges",
         "type": "\"double\""
        },
        {
         "metadata": "{}",
         "name": "Churn",
         "type": "\"string\""
        }
       ],
       "type": "table"
      }
     },
     "output_type": "display_data"
    }
   ],
   "source": [
    "from pyspark.sql.functions import col, when, trim, lit\n",
    "\n",
    "df_silver = (\n",
    "    spark.table(\"bronze.churn_raw\")\n",
    "        .withColumnRenamed(\"customerID\", \"customer_id\")\n",
    "        .withColumn(\"SeniorCitizen\", col(\"SeniorCitizen\").cast(\"int\"))\n",
    "        .withColumn(\"tenure\", col(\"tenure\").cast(\"int\"))\n",
    "        .withColumn(\"MonthlyCharges\", col(\"MonthlyCharges\").cast(\"double\"))\n",
    "        .withColumn(\n",
    "            \"TotalCharges\",\n",
    "            when(trim(col(\"TotalCharges\")) == \"\", lit(None))  # se vazio -> None\n",
    "            .otherwise(col(\"TotalCharges\").cast(\"double\"))\n",
    "        )\n",
    ")\n",
    "\n",
    "df_silver.write.mode(\"overwrite\").format(\"delta\").saveAsTable(\"silver.churn_clean\")\n",
    "display(spark.table(\"silver.churn_clean\").limit(5))"
   ]
  },
  {
   "cell_type": "code",
   "execution_count": 0,
   "metadata": {
    "application/vnd.databricks.v1+cell": {
     "cellMetadata": {},
     "inputWidgets": {},
     "nuid": "38f9a86c-a05a-4808-a4f9-5852ac1f4891",
     "showTitle": false,
     "tableResultSettingsMap": {},
     "title": ""
    }
   },
   "outputs": [],
   "source": []
  }
 ],
 "metadata": {
  "application/vnd.databricks.v1+notebook": {
   "computePreferences": null,
   "dashboards": [],
   "environmentMetadata": {
    "base_environment": "",
    "environment_version": "3"
   },
   "inputWidgetPreferences": null,
   "language": "python",
   "notebookMetadata": {
    "mostRecentlyExecutedCommandWithImplicitDF": {
     "commandId": 7680567362659210,
     "dataframes": [
      "_sqldf"
     ]
    },
    "pythonIndentUnit": 4
   },
   "notebookName": "02_silver_churn_cleaning",
   "widgets": {}
  },
  "language_info": {
   "name": "python"
  }
 },
 "nbformat": 4,
 "nbformat_minor": 0
}