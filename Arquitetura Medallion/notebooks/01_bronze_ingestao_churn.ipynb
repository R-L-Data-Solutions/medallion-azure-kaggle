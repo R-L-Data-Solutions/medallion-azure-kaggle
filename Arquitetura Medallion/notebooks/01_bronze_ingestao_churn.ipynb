{
 "cells": [
  {
   "cell_type": "markdown",
   "metadata": {
    "application/vnd.databricks.v1+cell": {
     "cellMetadata": {},
     "inputWidgets": {},
     "nuid": "91ffff42-3c0d-43a4-9c60-1ebb66ad4bcf",
     "showTitle": false,
     "tableResultSettingsMap": {},
     "title": ""
    }
   },
   "source": [
    "# Notebook 01 – Bronze Layer (Ingestão)\n",
    "\n",
    "Este notebook realiza a ingestão dos dados crus (Raw Data) no ADLS Gen2,\n",
    "armazenando em formato Delta Lake no schema `bronze`.\n"
   ]
  },
  {
   "cell_type": "code",
   "execution_count": 0,
   "metadata": {
    "application/vnd.databricks.v1+cell": {
     "cellMetadata": {
      "byteLimit": 2048000,
      "implicitDf": true,
      "rowLimit": 10000
     },
     "inputWidgets": {},
     "nuid": "ff2bcb34-e6ae-4593-8921-3f57c2f33d84",
     "showTitle": false,
     "tableResultSettingsMap": {},
     "title": ""
    }
   },
   "outputs": [],
   "source": [
    "%sql\n",
    "CREATE SCHEMA IF NOT EXISTS bronze;"
   ]
  },
  {
   "cell_type": "code",
   "execution_count": 0,
   "metadata": {
    "application/vnd.databricks.v1+cell": {
     "cellMetadata": {
      "byteLimit": 2048000,
      "rowLimit": 10000
     },
     "inputWidgets": {},
     "nuid": "0f7c3d73-fccd-4b42-8164-17a358a02a3e",
     "showTitle": false,
     "tableResultSettingsMap": {},
     "title": ""
    }
   },
   "outputs": [],
   "source": [
    "storage = \"datalakestoragerl\"\n",
    "bronze_container = \"bronze\"\n",
    "file_name = \"WA_Fn-UseC_-Telco-Customer-Churn.csv\"\n",
    "\n",
    "bronze_path = f\"abfss://{bronze_container}@{storage}.dfs.core.windows.net/churn/{file_name}\"\n",
    "\n",
    "df_bronze = (spark.read\n",
    "  .format(\"csv\")\n",
    "  .option(\"header\", \"true\")\n",
    "  .option(\"inferSchema\", \"true\")\n",
    "  .load(bronze_path))\n",
    "\n",
    "df_bronze.write.mode(\"overwrite\").format(\"delta\").saveAsTable(\"bronze.churn_raw\")\n"
   ]
  },
  {
   "cell_type": "code",
   "execution_count": 0,
   "metadata": {
    "application/vnd.databricks.v1+cell": {
     "cellMetadata": {
      "byteLimit": 2048000,
      "rowLimit": 10000
     },
     "inputWidgets": {},
     "nuid": "eaf417b6-b436-4b45-9991-089943336d86",
     "showTitle": false,
     "tableResultSettingsMap": {},
     "title": ""
    }
   },
   "outputs": [
    {
     "output_type": "display_data",
     "data": {
      "text/html": [
       "<style scoped>\n",
       "  .table-result-container {\n",
       "    max-height: 300px;\n",
       "    overflow: auto;\n",
       "  }\n",
       "  table, th, td {\n",
       "    border: 1px solid black;\n",
       "    border-collapse: collapse;\n",
       "  }\n",
       "  th, td {\n",
       "    padding: 5px;\n",
       "  }\n",
       "  th {\n",
       "    text-align: left;\n",
       "  }\n",
       "</style><div class='table-result-container'><table class='table-result'><thead style='background-color: white'><tr><th>customerID</th><th>gender</th><th>SeniorCitizen</th><th>Partner</th><th>Dependents</th><th>tenure</th><th>PhoneService</th><th>MultipleLines</th><th>InternetService</th><th>OnlineSecurity</th><th>OnlineBackup</th><th>DeviceProtection</th><th>TechSupport</th><th>StreamingTV</th><th>StreamingMovies</th><th>Contract</th><th>PaperlessBilling</th><th>PaymentMethod</th><th>MonthlyCharges</th><th>TotalCharges</th><th>Churn</th></tr></thead><tbody><tr><td>7590-VHVEG</td><td>Female</td><td>0</td><td>Yes</td><td>No</td><td>1</td><td>No</td><td>No phone service</td><td>DSL</td><td>No</td><td>Yes</td><td>No</td><td>No</td><td>No</td><td>No</td><td>Month-to-month</td><td>Yes</td><td>Electronic check</td><td>29.85</td><td>29.85</td><td>No</td></tr><tr><td>5575-GNVDE</td><td>Male</td><td>0</td><td>No</td><td>No</td><td>34</td><td>Yes</td><td>No</td><td>DSL</td><td>Yes</td><td>No</td><td>Yes</td><td>No</td><td>No</td><td>No</td><td>One year</td><td>No</td><td>Mailed check</td><td>56.95</td><td>1889.5</td><td>No</td></tr><tr><td>3668-QPYBK</td><td>Male</td><td>0</td><td>No</td><td>No</td><td>2</td><td>Yes</td><td>No</td><td>DSL</td><td>Yes</td><td>Yes</td><td>No</td><td>No</td><td>No</td><td>No</td><td>Month-to-month</td><td>Yes</td><td>Mailed check</td><td>53.85</td><td>108.15</td><td>Yes</td></tr><tr><td>7795-CFOCW</td><td>Male</td><td>0</td><td>No</td><td>No</td><td>45</td><td>No</td><td>No phone service</td><td>DSL</td><td>Yes</td><td>No</td><td>Yes</td><td>Yes</td><td>No</td><td>No</td><td>One year</td><td>No</td><td>Bank transfer (automatic)</td><td>42.3</td><td>1840.75</td><td>No</td></tr><tr><td>9237-HQITU</td><td>Female</td><td>0</td><td>No</td><td>No</td><td>2</td><td>Yes</td><td>No</td><td>Fiber optic</td><td>No</td><td>No</td><td>No</td><td>No</td><td>No</td><td>No</td><td>Month-to-month</td><td>Yes</td><td>Electronic check</td><td>70.7</td><td>151.65</td><td>Yes</td></tr></tbody></table></div>"
      ]
     },
     "metadata": {
      "application/vnd.databricks.v1+output": {
       "addedWidgets": {},
       "aggData": [],
       "aggError": "",
       "aggOverflow": false,
       "aggSchema": [],
       "aggSeriesLimitReached": false,
       "aggType": "",
       "arguments": {},
       "columnCustomDisplayInfos": {},
       "data": [
        [
         "7590-VHVEG",
         "Female",
         0,
         "Yes",
         "No",
         1,
         "No",
         "No phone service",
         "DSL",
         "No",
         "Yes",
         "No",
         "No",
         "No",
         "No",
         "Month-to-month",
         "Yes",
         "Electronic check",
         29.85,
         "29.85",
         "No"
        ],
        [
         "5575-GNVDE",
         "Male",
         0,
         "No",
         "No",
         34,
         "Yes",
         "No",
         "DSL",
         "Yes",
         "No",
         "Yes",
         "No",
         "No",
         "No",
         "One year",
         "No",
         "Mailed check",
         56.95,
         "1889.5",
         "No"
        ],
        [
         "3668-QPYBK",
         "Male",
         0,
         "No",
         "No",
         2,
         "Yes",
         "No",
         "DSL",
         "Yes",
         "Yes",
         "No",
         "No",
         "No",
         "No",
         "Month-to-month",
         "Yes",
         "Mailed check",
         53.85,
         "108.15",
         "Yes"
        ],
        [
         "7795-CFOCW",
         "Male",
         0,
         "No",
         "No",
         45,
         "No",
         "No phone service",
         "DSL",
         "Yes",
         "No",
         "Yes",
         "Yes",
         "No",
         "No",
         "One year",
         "No",
         "Bank transfer (automatic)",
         42.3,
         "1840.75",
         "No"
        ],
        [
         "9237-HQITU",
         "Female",
         0,
         "No",
         "No",
         2,
         "Yes",
         "No",
         "Fiber optic",
         "No",
         "No",
         "No",
         "No",
         "No",
         "No",
         "Month-to-month",
         "Yes",
         "Electronic check",
         70.7,
         "151.65",
         "Yes"
        ]
       ],
       "datasetInfos": [],
       "dbfsResultPath": null,
       "isJsonSchema": true,
       "metadata": {},
       "overflow": false,
       "plotOptions": {
        "customPlotOptions": {},
        "displayType": "table",
        "pivotAggregation": null,
        "pivotColumns": null,
        "xColumns": null,
        "yColumns": null
       },
       "removedWidgets": [],
       "schema": [
        {
         "metadata": "{}",
         "name": "customerID",
         "type": "\"string\""
        },
        {
         "metadata": "{}",
         "name": "gender",
         "type": "\"string\""
        },
        {
         "metadata": "{}",
         "name": "SeniorCitizen",
         "type": "\"integer\""
        },
        {
         "metadata": "{}",
         "name": "Partner",
         "type": "\"string\""
        },
        {
         "metadata": "{}",
         "name": "Dependents",
         "type": "\"string\""
        },
        {
         "metadata": "{}",
         "name": "tenure",
         "type": "\"integer\""
        },
        {
         "metadata": "{}",
         "name": "PhoneService",
         "type": "\"string\""
        },
        {
         "metadata": "{}",
         "name": "MultipleLines",
         "type": "\"string\""
        },
        {
         "metadata": "{}",
         "name": "InternetService",
         "type": "\"string\""
        },
        {
         "metadata": "{}",
         "name": "OnlineSecurity",
         "type": "\"string\""
        },
        {
         "metadata": "{}",
         "name": "OnlineBackup",
         "type": "\"string\""
        },
        {
         "metadata": "{}",
         "name": "DeviceProtection",
         "type": "\"string\""
        },
        {
         "metadata": "{}",
         "name": "TechSupport",
         "type": "\"string\""
        },
        {
         "metadata": "{}",
         "name": "StreamingTV",
         "type": "\"string\""
        },
        {
         "metadata": "{}",
         "name": "StreamingMovies",
         "type": "\"string\""
        },
        {
         "metadata": "{}",
         "name": "Contract",
         "type": "\"string\""
        },
        {
         "metadata": "{}",
         "name": "PaperlessBilling",
         "type": "\"string\""
        },
        {
         "metadata": "{}",
         "name": "PaymentMethod",
         "type": "\"string\""
        },
        {
         "metadata": "{}",
         "name": "MonthlyCharges",
         "type": "\"double\""
        },
        {
         "metadata": "{}",
         "name": "TotalCharges",
         "type": "\"string\""
        },
        {
         "metadata": "{}",
         "name": "Churn",
         "type": "\"string\""
        }
       ],
       "type": "table"
      }
     },
     "output_type": "display_data"
    }
   ],
   "source": [
    "display(spark.table(\"bronze.churn_raw\").limit(5))"
   ]
  }
 ],
 "metadata": {
  "application/vnd.databricks.v1+notebook": {
   "computePreferences": null,
   "dashboards": [],
   "environmentMetadata": {
    "base_environment": "",
    "environment_version": "3"
   },
   "inputWidgetPreferences": null,
   "language": "python",
   "notebookMetadata": {
    "mostRecentlyExecutedCommandWithImplicitDF": {
     "commandId": 7680567362659207,
     "dataframes": [
      "_sqldf"
     ]
    },
    "pythonIndentUnit": 4
   },
   "notebookName": "01_bronze_ingestao_churn",
   "widgets": {}
  },
  "language_info": {
   "name": "python"
  }
 },
 "nbformat": 4,
 "nbformat_minor": 0
}