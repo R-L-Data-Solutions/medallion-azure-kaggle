{
 "cells": [
  {
   "cell_type": "markdown",
   "metadata": {
    "application/vnd.databricks.v1+cell": {
     "cellMetadata": {},
     "inputWidgets": {},
     "nuid": "7026a906-9e10-4f16-b8b5-0f5fe54082e4",
     "showTitle": false,
     "tableResultSettingsMap": {},
     "title": ""
    }
   },
   "source": [
    "# Notebook 03 – Gold Layer (Analytics)\n",
    "\n",
    "Este notebook gera tabelas analíticas de alto valor (Gold Layer),\n",
    "prontas para consumo em BI ou Machine Learning.\n"
   ]
  },
  {
   "cell_type": "code",
   "execution_count": 0,
   "metadata": {
    "application/vnd.databricks.v1+cell": {
     "cellMetadata": {
      "byteLimit": 2048000,
      "implicitDf": true,
      "rowLimit": 10000
     },
     "inputWidgets": {},
     "nuid": "0627f52f-d054-4071-84cc-ceb6b2d3ea62",
     "showTitle": false,
     "tableResultSettingsMap": {},
     "title": ""
    }
   },
   "outputs": [],
   "source": [
    "%sql\n",
    "CREATE SCHEMA IF NOT EXISTS gold;"
   ]
  },
  {
   "cell_type": "code",
   "execution_count": 0,
   "metadata": {
    "application/vnd.databricks.v1+cell": {
     "cellMetadata": {
      "byteLimit": 2048000,
      "rowLimit": 10000
     },
     "inputWidgets": {},
     "nuid": "98bdb62c-96ce-4aca-a5d2-69f9f6d2f5e8",
     "showTitle": false,
     "tableResultSettingsMap": {},
     "title": ""
    }
   },
   "outputs": [],
   "source": [
    "from pyspark.sql.functions import col, avg, count\n",
    "\n",
    "df_silver = spark.table(\"silver.churn_cleaned\")\n",
    "\n",
    "df_gold = (df_silver.groupBy(\"gender\", \"Contract\")\n",
    "  .agg(\n",
    "      avg(col(\"MonthlyCharges\")).alias(\"avg_monthly_charges\"),\n",
    "      count(col(\"Churn\")).alias(\"total_customers\")\n",
    "  ))\n",
    "\n",
    "df_gold.write.mode(\"overwrite\").format(\"delta\").saveAsTable(\"gold.churn_summary\")\n"
   ]
  },
  {
   "cell_type": "code",
   "execution_count": 0,
   "metadata": {
    "application/vnd.databricks.v1+cell": {
     "cellMetadata": {
      "byteLimit": 2048000,
      "rowLimit": 10000
     },
     "inputWidgets": {},
     "nuid": "f4fc02e8-56ee-48c7-95ee-df434703db62",
     "showTitle": false,
     "tableResultSettingsMap": {},
     "title": ""
    }
   },
   "outputs": [
    {
     "output_type": "display_data",
     "data": {
      "text/html": [
       "<style scoped>\n",
       "  .table-result-container {\n",
       "    max-height: 300px;\n",
       "    overflow: auto;\n",
       "  }\n",
       "  table, th, td {\n",
       "    border: 1px solid black;\n",
       "    border-collapse: collapse;\n",
       "  }\n",
       "  th, td {\n",
       "    padding: 5px;\n",
       "  }\n",
       "  th {\n",
       "    text-align: left;\n",
       "  }\n",
       "</style><div class='table-result-container'><table class='table-result'><thead style='background-color: white'><tr><th>gender</th><th>Contract</th><th>avg_monthly_charges</th><th>total_customers</th></tr></thead><tbody><tr><td>Female</td><td>Month-to-month</td><td>66.65262337662338</td><td>1925</td></tr><tr><td>Male</td><td>One year</td><td>63.343443708609286</td><td>755</td></tr><tr><td>Male</td><td>Month-to-month</td><td>66.14761538461532</td><td>1950</td></tr><tr><td>Female</td><td>One year</td><td>66.84164345403894</td><td>718</td></tr><tr><td>Female</td><td>Two year</td><td>60.51337278106506</td><td>845</td></tr><tr><td>Male</td><td>Two year</td><td>61.02594117647067</td><td>850</td></tr></tbody></table></div>"
      ]
     },
     "metadata": {
      "application/vnd.databricks.v1+output": {
       "addedWidgets": {},
       "aggData": [],
       "aggError": "",
       "aggOverflow": false,
       "aggSchema": [],
       "aggSeriesLimitReached": false,
       "aggType": "",
       "arguments": {},
       "columnCustomDisplayInfos": {},
       "data": [
        [
         "Female",
         "Month-to-month",
         66.65262337662338,
         1925
        ],
        [
         "Male",
         "One year",
         63.343443708609286,
         755
        ],
        [
         "Male",
         "Month-to-month",
         66.14761538461532,
         1950
        ],
        [
         "Female",
         "One year",
         66.84164345403894,
         718
        ],
        [
         "Female",
         "Two year",
         60.51337278106506,
         845
        ],
        [
         "Male",
         "Two year",
         61.02594117647067,
         850
        ]
       ],
       "datasetInfos": [],
       "dbfsResultPath": null,
       "isJsonSchema": true,
       "metadata": {},
       "overflow": false,
       "plotOptions": {
        "customPlotOptions": {},
        "displayType": "table",
        "pivotAggregation": null,
        "pivotColumns": null,
        "xColumns": null,
        "yColumns": null
       },
       "removedWidgets": [],
       "schema": [
        {
         "metadata": "{}",
         "name": "gender",
         "type": "\"string\""
        },
        {
         "metadata": "{}",
         "name": "Contract",
         "type": "\"string\""
        },
        {
         "metadata": "{}",
         "name": "avg_monthly_charges",
         "type": "\"double\""
        },
        {
         "metadata": "{}",
         "name": "total_customers",
         "type": "\"long\""
        }
       ],
       "type": "table"
      }
     },
     "output_type": "display_data"
    }
   ],
   "source": [
    "display(spark.table(\"gold.churn_summary\"))"
   ]
  }
 ],
 "metadata": {
  "application/vnd.databricks.v1+notebook": {
   "computePreferences": null,
   "dashboards": [],
   "environmentMetadata": {
    "base_environment": "",
    "environment_version": "3"
   },
   "inputWidgetPreferences": null,
   "language": "python",
   "notebookMetadata": {
    "mostRecentlyExecutedCommandWithImplicitDF": {
     "commandId": 7680567362659215,
     "dataframes": [
      "_sqldf"
     ]
    },
    "pythonIndentUnit": 4
   },
   "notebookName": "03_gold_churn_features",
   "widgets": {}
  },
  "language_info": {
   "name": "python"
  }
 },
 "nbformat": 4,
 "nbformat_minor": 0
}